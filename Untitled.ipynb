{
 "cells": [
  {
   "cell_type": "markdown",
   "metadata": {},
   "source": [
    "Here is the structure  of this video.\n",
    "# **Intro to IT**\n",
    "> ##   Introduction\n",
    "> ##   History of Computing\n",
    "> ##   Digital Logic\n",
    "> ##   Computer Architecture Layer\n",
    "# **Hardware**\n",
    "> ##  The Modern Compter\n",
    "> ##  Components\n",
    "> ##  Sarting It Up\n",
    "# **Operating System**\n",
    "> ##  What is an operating system?\n",
    "> ##  Installing an Operating System\n",
    "# **Networking**\n",
    "> ##  What is networking?\n",
    "> ##  Limitations of the Internet\n",
    "> ##  Impact of the internet\n",
    "# **Software**\n",
    "> ##  Intro to Software\n",
    "> ##  Interacting with Software\n",
    "# **Troubleshooting**\n",
    "> ##  Troubleshooting Best Practices\n",
    "> ##  Customer Service\n",
    "> ##  Decumentation\n",
    "\n",
    "Here is a screenshot,and I’d like to share something about what I have learned from this video. \n",
    "![同一目录下的图片引用](./111.jpg)\n",
    "As you see, this is a motherboard. A computer contain many conponents. Such as CPU, RAM,Hard Drive, and Power.These conponents work together, and every component has its own work. CPU like our brain, which calculate. RAM remember those things that is important for now, and forget it when the pover is down. Hard Drive remember things for a long time, apps and important files are stored in Hard Drive. And the power provide energy to other parts of computer.\n",
    "\n"
   ]
  },
  {
   "cell_type": "code",
   "execution_count": null,
   "metadata": {},
   "outputs": [],
   "source": []
  }
 ],
 "metadata": {
  "kernelspec": {
   "display_name": "Python 3",
   "language": "python",
   "name": "python3"
  },
  "language_info": {
   "codemirror_mode": {
    "name": "ipython",
    "version": 3
   },
   "file_extension": ".py",
   "mimetype": "text/x-python",
   "name": "python",
   "nbconvert_exporter": "python",
   "pygments_lexer": "ipython3",
   "version": "3.6.7"
  }
 },
 "nbformat": 4,
 "nbformat_minor": 2
}
